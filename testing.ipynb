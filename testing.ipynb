{
 "cells": [
  {
   "cell_type": "code",
   "execution_count": 1,
   "metadata": {},
   "outputs": [],
   "source": [
    "%load_ext autoreload\n",
    "%autoreload 2"
   ]
  },
  {
   "cell_type": "code",
   "execution_count": 2,
   "metadata": {},
   "outputs": [],
   "source": [
    "import pickle\n",
    "import numpy as np\n",
    "\n",
    "from treelib import Node, Tree\n",
    "from gensim.models.doc2vec import Doc2Vec\n"
   ]
  },
  {
   "cell_type": "code",
   "execution_count": 3,
   "metadata": {},
   "outputs": [],
   "source": [
    "def translate_to_tree(root):\n",
    "    tree = Tree()\n",
    "    tree.create_node(root.name, root.name)\n",
    "    for child in root.children:\n",
    "        tree.create_node(child.data.top_terms(10), child.name, parent=root.name)\n",
    "        for grandchild in child.children:\n",
    "            tree.create_node(grandchild.data.top_terms(10), grandchild.name, parent=child.name)\n",
    "    #print(tree.show(stdout=False))\n",
    "    return tree"
   ]
  },
  {
   "cell_type": "markdown",
   "metadata": {},
   "source": [
    "### Training Doc2Vec model for robustness metric"
   ]
  },
  {
   "cell_type": "code",
   "execution_count": 3,
   "metadata": {},
   "outputs": [],
   "source": [
    "#using DBLP dataset from original TaxoGen paper\n",
    "\n",
    "documents = []\n",
    "\n",
    "with open('input/documents.txt', 'r') as f:\n",
    "    for line in f:\n",
    "        documents.append(line.strip().split())"
   ]
  },
  {
   "cell_type": "code",
   "execution_count": 4,
   "metadata": {},
   "outputs": [],
   "source": [
    "from gensim.models.doc2vec import TaggedDocument\n",
    "\n",
    "for i, doc in enumerate(documents):\n",
    "    documents[i] = TaggedDocument(doc, [i])"
   ]
  },
  {
   "cell_type": "code",
   "execution_count": null,
   "metadata": {},
   "outputs": [],
   "source": [
    "from embedding import doc2vec_embedding\n",
    "\n",
    "model = doc2vec_embedding(documents)"
   ]
  },
  {
   "cell_type": "code",
   "execution_count": 6,
   "metadata": {},
   "outputs": [],
   "source": [
    "model.save('output/doc2vec.model')"
   ]
  },
  {
   "cell_type": "code",
   "execution_count": 4,
   "metadata": {},
   "outputs": [],
   "source": [
    "from gensim.models.doc2vec import Doc2Vec\n",
    "\n",
    "model = Doc2Vec.load('output/doc2vec.model')"
   ]
  },
  {
   "cell_type": "markdown",
   "metadata": {},
   "source": [
    "### Word2vec taxonomy"
   ]
  },
  {
   "cell_type": "code",
   "execution_count": 5,
   "metadata": {},
   "outputs": [],
   "source": [
    "from evaluation.metrics import robustness, create_analysis_units"
   ]
  },
  {
   "cell_type": "code",
   "execution_count": 12,
   "metadata": {},
   "outputs": [
    {
     "name": "stdout",
     "output_type": "stream",
     "text": [
      "Robustness: 0.32 | Units: 5 | Total unit nodes: 25\n",
      "\tUnit: agent_based_modeling_and_simulation | Nodes: 5 | Outside nodes: 45 | Outside proportion: 0.45\n",
      "\tUnit: information_theoretic_security | Nodes: 5 | Outside nodes: 48 | Outside proportion: 0.48\n",
      "\tUnit: population_sizing | Nodes: 5 | Outside nodes: 74 | Outside proportion: 0.74\n",
      "\tUnit: hownet | Nodes: 5 | Outside nodes: 82 | Outside proportion: 0.82\n",
      "\tUnit: small_sample_size_problem | Nodes: 5 | Outside nodes: 91 | Outside proportion: 0.91\n",
      "\n"
     ]
    }
   ],
   "source": [
    "filename = 'output/skipgram_taxonomy.pkl'\n",
    "root = pickle.load(open(filename, 'rb'))\n",
    "\n",
    "analysis_units = create_analysis_units(translate_to_tree(root), model)\n",
    "\n",
    "result = robustness(analysis_units)\n",
    "print(result)"
   ]
  },
  {
   "cell_type": "markdown",
   "metadata": {},
   "source": [
    "0.372 0.32 0.410"
   ]
  },
  {
   "cell_type": "markdown",
   "metadata": {},
   "source": [
    "### FastText taxonomy"
   ]
  },
  {
   "cell_type": "code",
   "execution_count": 7,
   "metadata": {},
   "outputs": [
    {
     "name": "stdout",
     "output_type": "stream",
     "text": [
      "Robustness: 0.43400000000000005 | Units: 5 | Total unit nodes: 25\n",
      "\tUnit: chosen_plaintext | Nodes: 5 | Outside nodes: 1 | Outside proportion: 0.01\n",
      "\tUnit: ls_svms | Nodes: 5 | Outside nodes: 52 | Outside proportion: 0.52\n",
      "\tUnit: geoclef | Nodes: 5 | Outside nodes: 59 | Outside proportion: 0.59\n",
      "\tUnit: infosleuth | Nodes: 5 | Outside nodes: 79 | Outside proportion: 0.79\n",
      "\tUnit: policy_gradient | Nodes: 5 | Outside nodes: 92 | Outside proportion: 0.92\n",
      "\n"
     ]
    }
   ],
   "source": [
    "filename = 'output/fasttext_taxonomy.pkl'\n",
    "root = pickle.load(open(filename, 'rb'))\n",
    "\n",
    "analysis_units = create_analysis_units(translate_to_tree(root), model)\n",
    "\n",
    "result = robustness(analysis_units)\n",
    "print(result)"
   ]
  },
  {
   "cell_type": "markdown",
   "metadata": {},
   "source": [
    "0.472 0.424 0.434"
   ]
  }
 ],
 "metadata": {
  "kernelspec": {
   "display_name": ".venv",
   "language": "python",
   "name": "python3"
  },
  "language_info": {
   "codemirror_mode": {
    "name": "ipython",
    "version": 3
   },
   "file_extension": ".py",
   "mimetype": "text/x-python",
   "name": "python",
   "nbconvert_exporter": "python",
   "pygments_lexer": "ipython3",
   "version": "3.11.9"
  }
 },
 "nbformat": 4,
 "nbformat_minor": 2
}
